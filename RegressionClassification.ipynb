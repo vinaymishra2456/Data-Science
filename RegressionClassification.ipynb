{
 "cells": [
  {
   "cell_type": "code",
   "execution_count": 1,
   "metadata": {},
   "outputs": [
    {
     "data": {
      "text/html": [
       "<div>\n",
       "<style scoped>\n",
       "    .dataframe tbody tr th:only-of-type {\n",
       "        vertical-align: middle;\n",
       "    }\n",
       "\n",
       "    .dataframe tbody tr th {\n",
       "        vertical-align: top;\n",
       "    }\n",
       "\n",
       "    .dataframe thead th {\n",
       "        text-align: right;\n",
       "    }\n",
       "</style>\n",
       "<table border=\"1\" class=\"dataframe\">\n",
       "  <thead>\n",
       "    <tr style=\"text-align: right;\">\n",
       "      <th></th>\n",
       "      <th>age</th>\n",
       "      <th>Medu</th>\n",
       "      <th>Fedu</th>\n",
       "      <th>traveltime</th>\n",
       "      <th>studytime</th>\n",
       "      <th>failures</th>\n",
       "      <th>famrel</th>\n",
       "      <th>freetime</th>\n",
       "      <th>goout</th>\n",
       "      <th>Dalc</th>\n",
       "      <th>...</th>\n",
       "      <th>guardian_mother</th>\n",
       "      <th>guardian_other</th>\n",
       "      <th>schoolsup_yes</th>\n",
       "      <th>famsup_yes</th>\n",
       "      <th>paid_yes</th>\n",
       "      <th>activities_yes</th>\n",
       "      <th>nursery_yes</th>\n",
       "      <th>higher_yes</th>\n",
       "      <th>internet_yes</th>\n",
       "      <th>romantic_yes</th>\n",
       "    </tr>\n",
       "  </thead>\n",
       "  <tbody>\n",
       "    <tr>\n",
       "      <th>0</th>\n",
       "      <td>1.021751</td>\n",
       "      <td>1.142407</td>\n",
       "      <td>1.358648</td>\n",
       "      <td>0.791247</td>\n",
       "      <td>-0.042232</td>\n",
       "      <td>-0.449374</td>\n",
       "      <td>0.062115</td>\n",
       "      <td>-0.235711</td>\n",
       "      <td>0.800464</td>\n",
       "      <td>-0.540014</td>\n",
       "      <td>...</td>\n",
       "      <td>1</td>\n",
       "      <td>0</td>\n",
       "      <td>1</td>\n",
       "      <td>0</td>\n",
       "      <td>0</td>\n",
       "      <td>0</td>\n",
       "      <td>1</td>\n",
       "      <td>1</td>\n",
       "      <td>0</td>\n",
       "      <td>0</td>\n",
       "    </tr>\n",
       "    <tr>\n",
       "      <th>1</th>\n",
       "      <td>0.238078</td>\n",
       "      <td>-1.597982</td>\n",
       "      <td>-1.398197</td>\n",
       "      <td>-0.642435</td>\n",
       "      <td>-0.042232</td>\n",
       "      <td>-0.449374</td>\n",
       "      <td>1.177367</td>\n",
       "      <td>-0.235711</td>\n",
       "      <td>-0.097784</td>\n",
       "      <td>-0.540014</td>\n",
       "      <td>...</td>\n",
       "      <td>0</td>\n",
       "      <td>0</td>\n",
       "      <td>0</td>\n",
       "      <td>1</td>\n",
       "      <td>0</td>\n",
       "      <td>0</td>\n",
       "      <td>0</td>\n",
       "      <td>1</td>\n",
       "      <td>1</td>\n",
       "      <td>0</td>\n",
       "    </tr>\n",
       "    <tr>\n",
       "      <th>2</th>\n",
       "      <td>-1.329268</td>\n",
       "      <td>-1.597982</td>\n",
       "      <td>-1.398197</td>\n",
       "      <td>-0.642435</td>\n",
       "      <td>-0.042232</td>\n",
       "      <td>3.584777</td>\n",
       "      <td>0.062115</td>\n",
       "      <td>-0.235711</td>\n",
       "      <td>-0.996032</td>\n",
       "      <td>0.582646</td>\n",
       "      <td>...</td>\n",
       "      <td>1</td>\n",
       "      <td>0</td>\n",
       "      <td>1</td>\n",
       "      <td>0</td>\n",
       "      <td>1</td>\n",
       "      <td>0</td>\n",
       "      <td>1</td>\n",
       "      <td>1</td>\n",
       "      <td>1</td>\n",
       "      <td>0</td>\n",
       "    </tr>\n",
       "    <tr>\n",
       "      <th>3</th>\n",
       "      <td>-1.329268</td>\n",
       "      <td>1.142407</td>\n",
       "      <td>-0.479249</td>\n",
       "      <td>-0.642435</td>\n",
       "      <td>1.149321</td>\n",
       "      <td>-0.449374</td>\n",
       "      <td>-1.053136</td>\n",
       "      <td>-1.236851</td>\n",
       "      <td>-0.996032</td>\n",
       "      <td>-0.540014</td>\n",
       "      <td>...</td>\n",
       "      <td>1</td>\n",
       "      <td>0</td>\n",
       "      <td>0</td>\n",
       "      <td>1</td>\n",
       "      <td>1</td>\n",
       "      <td>1</td>\n",
       "      <td>1</td>\n",
       "      <td>1</td>\n",
       "      <td>1</td>\n",
       "      <td>1</td>\n",
       "    </tr>\n",
       "    <tr>\n",
       "      <th>4</th>\n",
       "      <td>-0.545595</td>\n",
       "      <td>0.228944</td>\n",
       "      <td>0.439699</td>\n",
       "      <td>-0.642435</td>\n",
       "      <td>-0.042232</td>\n",
       "      <td>-0.449374</td>\n",
       "      <td>0.062115</td>\n",
       "      <td>-0.235711</td>\n",
       "      <td>-0.996032</td>\n",
       "      <td>-0.540014</td>\n",
       "      <td>...</td>\n",
       "      <td>0</td>\n",
       "      <td>0</td>\n",
       "      <td>0</td>\n",
       "      <td>1</td>\n",
       "      <td>1</td>\n",
       "      <td>0</td>\n",
       "      <td>1</td>\n",
       "      <td>1</td>\n",
       "      <td>0</td>\n",
       "      <td>0</td>\n",
       "    </tr>\n",
       "  </tbody>\n",
       "</table>\n",
       "<p>5 rows × 42 columns</p>\n",
       "</div>"
      ],
      "text/plain": [
       "        age      Medu      Fedu  traveltime  studytime  failures    famrel  \\\n",
       "0  1.021751  1.142407  1.358648    0.791247  -0.042232 -0.449374  0.062115   \n",
       "1  0.238078 -1.597982 -1.398197   -0.642435  -0.042232 -0.449374  1.177367   \n",
       "2 -1.329268 -1.597982 -1.398197   -0.642435  -0.042232  3.584777  0.062115   \n",
       "3 -1.329268  1.142407 -0.479249   -0.642435   1.149321 -0.449374 -1.053136   \n",
       "4 -0.545595  0.228944  0.439699   -0.642435  -0.042232 -0.449374  0.062115   \n",
       "\n",
       "   freetime     goout      Dalc      ...       guardian_mother  \\\n",
       "0 -0.235711  0.800464 -0.540014      ...                     1   \n",
       "1 -0.235711 -0.097784 -0.540014      ...                     0   \n",
       "2 -0.235711 -0.996032  0.582646      ...                     1   \n",
       "3 -1.236851 -0.996032 -0.540014      ...                     1   \n",
       "4 -0.235711 -0.996032 -0.540014      ...                     0   \n",
       "\n",
       "   guardian_other  schoolsup_yes  famsup_yes  paid_yes  activities_yes  \\\n",
       "0               0              1           0         0               0   \n",
       "1               0              0           1         0               0   \n",
       "2               0              1           0         1               0   \n",
       "3               0              0           1         1               1   \n",
       "4               0              0           1         1               0   \n",
       "\n",
       "   nursery_yes  higher_yes  internet_yes  romantic_yes  \n",
       "0            1           1             0             0  \n",
       "1            0           1             1             0  \n",
       "2            1           1             1             0  \n",
       "3            1           1             1             1  \n",
       "4            1           1             0             0  \n",
       "\n",
       "[5 rows x 42 columns]"
      ]
     },
     "execution_count": 1,
     "metadata": {},
     "output_type": "execute_result"
    }
   ],
   "source": [
    "import numpy as np\n",
    "import pandas as pd\n",
    "import matplotlib.pyplot as plt\n",
    "import seaborn as sns\n",
    "%matplotlib inline\n",
    "from sklearn.model_selection import train_test_split\n",
    "from sklearn.linear_model import LinearRegression\n",
    "from sklearn.metrics import mean_squared_error\n",
    "\n",
    "#read the data\n",
    "data = pd.read_csv(\"student-mat.csv\", sep=';')\n",
    "#data = (data - data.mean())/data.std()\n",
    "\n",
    "my_data = pd.get_dummies(data,drop_first=True)\n",
    "\n",
    "#we need to normalize the features using mean normalization\n",
    "\n",
    "my_data.iloc[:,:16] = (my_data.iloc[:,:16] - my_data.iloc[:,:16].mean())/my_data.iloc[:,:16].std()\n",
    "my_data.head()\n",
    "#my_data.columns\n"
   ]
  },
  {
   "cell_type": "code",
   "execution_count": null,
   "metadata": {},
   "outputs": [],
   "source": []
  },
  {
   "cell_type": "code",
   "execution_count": 2,
   "metadata": {},
   "outputs": [
    {
     "name": "stdout",
     "output_type": "stream",
     "text": [
      "(296, 40)\n",
      "(296, 1)\n",
      "(99, 40)\n",
      "(99, 1)\n",
      "(1, 40)\n"
     ]
    }
   ],
   "source": [
    "#setting the matrixes\n",
    "\n",
    "X = my_data.copy()\n",
    "X.drop(['G1','G2','G3'], axis=1, inplace=True)\n",
    "ones = np.ones([X.shape[0],1])\n",
    "X = np.concatenate((ones,X),axis=1)\n",
    "\n",
    "#y = my_data.iloc[:,].values #.values converts it from pandas.core.frame.DataFrame to numpy.ndarray\n",
    "#y = my_data.iloc[:,15:16].values #.values converts it from pandas.core.frame.DataFrame to numpy.ndarray\n",
    "\n",
    "y= my_data['G3'].values.reshape(395,1)\n",
    "theta = np.zeros([1,40])\n",
    "\n",
    "X_train, X_test, y_train, y_test = train_test_split(X, y)\n",
    "theta = np.zeros([1,X_train.shape[1]])\n",
    "\n",
    "print(X_train.shape)\n",
    "print(y_train.shape)\n",
    "print(X_test.shape)\n",
    "print(y_test.shape)\n",
    "print(theta.shape)\n",
    "\n",
    "#set hyper parameters\n",
    "alpha = 0.1\n",
    "iters = 25000\n",
    "\n"
   ]
  },
  {
   "cell_type": "code",
   "execution_count": 3,
   "metadata": {},
   "outputs": [
    {
     "name": "stdout",
     "output_type": "stream",
     "text": [
      "[[-0.653045   -0.10792386  0.1231603   0.01416905 -0.0391135   0.0883431\n",
      "  -0.32568676  0.01515976  0.09306239 -0.107125   -0.04013189  0.04293635\n",
      "  -0.02741093  0.09367173  0.32590724  0.2798869   0.07274088  0.19555238\n",
      "  -0.04912306  0.24300438 -0.05910169  0.14383439 -0.12574962  0.14201434\n",
      "   0.13895679  0.07314843  0.39146623 -0.06128797  0.1618334   0.21142765\n",
      "  -0.06165756  0.12971532 -0.0903549  -0.25028568  0.09964404 -0.11715538\n",
      "   0.03260515  0.25765315  0.31779579 -0.27079414]]\n",
      "0.34934147355379697\n",
      "(1, 40)\n"
     ]
    },
    {
     "data": {
      "text/plain": [
       "Text(0.5,1,'Error vs. Training Epoch')"
      ]
     },
     "execution_count": 3,
     "metadata": {},
     "output_type": "execute_result"
    },
    {
     "data": {
      "image/png": "[encoded data removed]",
      "text/plain": [
       "<Figure size 432x288 with 1 Axes>"
      ]
     },
     "metadata": {},
     "output_type": "display_data"
    }
   ],
   "source": [
    "#computecost\n",
    "def computeCost(X_train,y_train,theta):\n",
    "    tobesummed = np.power(((X_train @ theta.T)-y_train),2)\n",
    "    return np.sum(tobesummed)/(2 * len(X_train))\n",
    "\n",
    "#gradient descent\n",
    "def gradientDescent(X_train,y_train,theta,iters,alpha):\n",
    "    cost = np.zeros(iters)\n",
    "    for i in range(iters):\n",
    "        theta = theta - (alpha/len(X_train)) * np.sum(X_train * (X_train @ theta.T - y_train), axis=0)\n",
    "        cost[i] = computeCost(X_train, y_train, theta)\n",
    "    \n",
    "    return theta,cost\n",
    "\n",
    "#running the gd and cost function\n",
    "g,cost = gradientDescent(X_train,y_train,theta,iters,alpha)\n",
    "print(g)\n",
    "\n",
    "finalCost = computeCost(X_train,y_train,g)\n",
    "print(finalCost)\n",
    "\n",
    "print(g.shape)\n",
    "#plot the cost\n",
    "fig, ax = plt.subplots()  \n",
    "ax.plot(np.arange(iters), cost, 'r')  \n",
    "ax.set_xlabel('Iterations')  \n",
    "ax.set_ylabel('Cost')  \n",
    "ax.set_title('Error vs. Training Epoch')  "
   ]
  },
  {
   "cell_type": "code",
   "execution_count": 4,
   "metadata": {},
   "outputs": [],
   "source": [
    "g.shape\n",
    "thetas = g.reshape(40,1)"
   ]
  },
  {
   "cell_type": "code",
   "execution_count": 5,
   "metadata": {},
   "outputs": [
    {
     "name": "stdout",
     "output_type": "stream",
     "text": [
      "theta (1, 40)\n",
      "y_test (99, 1)\n",
      "X_test (99, 40)\n",
      "y_test_pred (99, 1)\n",
      "MAE test all variables: 0.7416780776983712\n",
      "MSE test all variables: 0.9288272626758797\n",
      "RMSE test all variables: 0.9637568483159431\n",
      "R-Squared:  -0.03393628764069989\n"
     ]
    }
   ],
   "source": [
    "\n",
    "y_test_prediction =  X_test.dot(thetas)  \n",
    "\n",
    "print(\"theta\",g.shape)\n",
    "print(\"y_test\",y_test.shape)\n",
    "print(\"X_test\",X_test.shape)\n",
    "print(\"y_test_pred\",y_test_prediction.shape)\n",
    "\n",
    "# print(mean_squared_error(y_test, y_test_prediction))\n",
    "\n",
    "import sklearn.metrics as metrics\n",
    "\n",
    "print('MAE test all variables:', metrics.mean_absolute_error(y_test, y_test_prediction))\n",
    "print('MSE test all variables:', metrics.mean_squared_error(y_test, y_test_prediction))\n",
    "print('RMSE test all variables:', np.sqrt(metrics.mean_squared_error(y_test, y_test_prediction)))\n",
    "\n",
    "from sklearn.metrics import r2_score\n",
    "print(\"R-Squared: \",r2_score(y_test,y_test_prediction))\n",
    "\n"
   ]
  },
  {
   "cell_type": "code",
   "execution_count": 6,
   "metadata": {},
   "outputs": [
    {
     "name": "stderr",
     "output_type": "stream",
     "text": [
      "C:\\Users\\vkm170130\\AppData\\Local\\Continuum\\anaconda3\\lib\\site-packages\\matplotlib\\axes\\_axes.py:6462: UserWarning: The 'normed' kwarg is deprecated, and has been replaced by the 'density' kwarg.\n",
      "  warnings.warn(\"The 'normed' kwarg is deprecated, and has been \"\n"
     ]
    },
    {
     "data": {
      "text/plain": [
       "<matplotlib.axes._subplots.AxesSubplot at 0x24fdb0e2c50>"
      ]
     },
     "execution_count": 6,
     "metadata": {},
     "output_type": "execute_result"
    },
    {
     "data": {
      "image/png": "[encoded data removed]",
      "text/plain": [
       "<Figure size 432x288 with 1 Axes>"
      ]
     },
     "metadata": {},
     "output_type": "display_data"
    }
   ],
   "source": [
    "import seaborn as sns\n",
    "sns.distplot(y_test - y_test_prediction)"
   ]
  },
  {
   "cell_type": "code",
   "execution_count": 7,
   "metadata": {},
   "outputs": [
    {
     "name": "stdout",
     "output_type": "stream",
     "text": [
      "theta (1, 40)\n",
      "y_test (296, 1)\n",
      "X_test (296, 40)\n",
      "y_test_pred (296, 1)\n",
      "MAE train all: 0.6502311092409062\n",
      "MSE train all: 0.6986829471075939\n",
      "RMSE train all: 0.835872566308761\n",
      "R-Squared:  0.321314112521473\n"
     ]
    }
   ],
   "source": [
    "y_train_prediction =  X_train.dot(thetas)  \n",
    "\n",
    "print(\"theta\",g.shape)\n",
    "print(\"y_test\",y_train.shape)\n",
    "print(\"X_test\",X_train.shape)\n",
    "print(\"y_test_pred\",y_train_prediction.shape)\n",
    "\n",
    "# print(mean_squared_error(y_test, y_test_prediction))\n",
    "\n",
    "import sklearn.metrics as metrics\n",
    "\n",
    "print('MAE train all:', metrics.mean_absolute_error(y_train, y_train_prediction))\n",
    "print('MSE train all:', metrics.mean_squared_error(y_train, y_train_prediction))\n",
    "print('RMSE train all:', np.sqrt(metrics.mean_squared_error(y_train, y_train_prediction)))\n",
    "\n",
    "from sklearn.metrics import r2_score\n",
    "print(\"R-Squared: \",r2_score(y_train,y_train_prediction))"
   ]
  },
  {
   "cell_type": "code",
   "execution_count": 8,
   "metadata": {},
   "outputs": [
    {
     "name": "stdout",
     "output_type": "stream",
     "text": [
      "Columns names:  Index(['age', 'Medu', 'Fedu', 'traveltime', 'failures', 'goout', 'address_U',\n",
      "       'Mjob_health', 'paid_yes', 'higher_yes'],\n",
      "      dtype='object')\n",
      "(296, 11)\n",
      "(296, 1)\n",
      "(99, 11)\n",
      "(99, 1)\n",
      "(1, 11)\n",
      "[[-0.05962106 -0.05324772  0.12310638 -0.0577503  -0.07070131 -0.27699228\n",
      "  -0.09772291  0.02550197  0.08514246  0.04988162  0.00998286]]\n",
      "final cost:  0.40636617279309045\n",
      "(1, 11)\n"
     ]
    },
    {
     "data": {
      "text/plain": [
       "Text(0.5,1,'Error vs. Training Epoch')"
      ]
     },
     "execution_count": 8,
     "metadata": {},
     "output_type": "execute_result"
    },
    {
     "data": {
      "image/png": "[encoded data removed]",
      "text/plain": [
       "<Figure size 432x288 with 1 Axes>"
      ]
     },
     "metadata": {},
     "output_type": "display_data"
    }
   ],
   "source": [
    "\n",
    "#read the data\n",
    "data = pd.read_csv(\"student-mat.csv\", sep=';')\n",
    "my_data = pd.get_dummies(data,drop_first=True)\n",
    "\n",
    "#we need to normalize the features using mean normalization\n",
    "my_data.iloc[:,:16] = (my_data.iloc[:,:16] - my_data.iloc[:,:16].mean())/my_data.iloc[:,:16].std()\n",
    "\n",
    "\n",
    "X = my_data.copy()\n",
    "X.drop(['famrel', 'freetime', 'Dalc', 'Walc', 'health', 'absences', 'school_MS',\n",
    "       'sex_M', 'famsize_LE3', 'Pstatus_T', 'Mjob_other', 'Mjob_services', 'Mjob_teacher', 'Fjob_health',\n",
    "       'Fjob_other', 'Fjob_services', 'Fjob_teacher', 'reason_home',\n",
    "       'reason_other', 'reason_reputation', 'guardian_mother',\n",
    "       'guardian_other', 'schoolsup_yes', 'famsup_yes',\n",
    "       'activities_yes', 'nursery_yes', 'internet_yes', 'G1', 'G2', 'G3', 'studytime','romantic_yes'], axis=1, inplace=True)\n",
    "print(\"Columns names: \", X.columns)\n",
    "ones = np.ones([X.shape[0],1])\n",
    "X = np.concatenate((ones,X),axis=1)\n",
    "\n",
    "#y = my_data.iloc[:,].values #.values converts it from pandas.core.frame.DataFrame to numpy.ndarray\n",
    "#y = my_data.iloc[:,15:16].values #.values converts it from pandas.core.frame.DataFrame to numpy.ndarray\n",
    "\n",
    "y= my_data['G3'].values.reshape(395,1)\n",
    "theta = np.zeros([1,40])\n",
    "\n",
    "X_train, X_test, y_train, y_test = train_test_split(X, y)\n",
    "theta = np.zeros([1,X_train.shape[1]])\n",
    "\n",
    "print(X_train.shape)\n",
    "print(y_train.shape)\n",
    "print(X_test.shape)\n",
    "print(y_test.shape)\n",
    "print(theta.shape)\n",
    "\n",
    "#set hyper parameters\n",
    "alpha = 0.001\n",
    "iters = 10000\n",
    "\n",
    "\n",
    "#running the gd and cost function\n",
    "g,cost = gradientDescent(X_train,y_train,theta,iters,alpha)\n",
    "print(g)\n",
    "\n",
    "finalCost = computeCost(X_train,y_train,g)\n",
    "print(\"final cost: \",finalCost)\n",
    "\n",
    "print(g.shape)\n",
    "#plot the cost\n",
    "fig, ax = plt.subplots()  \n",
    "ax.plot(np.arange(iters), cost, 'r')  \n",
    "ax.set_xlabel('Iterations')  \n",
    "ax.set_ylabel('Cost')  \n",
    "ax.set_title('Error vs. Training Epoch')  "
   ]
  },
  {
   "cell_type": "code",
   "execution_count": 9,
   "metadata": {},
   "outputs": [
    {
     "name": "stdout",
     "output_type": "stream",
     "text": [
      "theta (1, 11)\n",
      "y_test (99, 1)\n",
      "X_test (99, 11)\n",
      "y_test_pred (99, 1)\n",
      "MAE test 10 best: 0.7191590774874648\n",
      "MSE test 10 best: 0.8866642395161524\n",
      "RMSE test 10 best: 0.9416285039845345\n",
      "R-Squared:  0.19779448802639732\n",
      "MAE train 10 best: 0.6818398878822665\n",
      "MSE train 10 best: 0.8127323455861809\n",
      "RMSE train 10 best: 0.9015166917956544\n",
      "R-Squared:  0.15452529503570123\n"
     ]
    }
   ],
   "source": [
    "g.shape\n",
    "thetas = g.reshape(11,1)\n",
    "y_test_prediction =  X_test.dot(thetas)  \n",
    "y_train_prediction =  X_train.dot(thetas)  \n",
    "\n",
    "\n",
    "print(\"theta\",g.shape)\n",
    "print(\"y_test\",y_test.shape)\n",
    "print(\"X_test\",X_test.shape)\n",
    "print(\"y_test_pred\",y_test_prediction.shape)\n",
    "\n",
    "# print(mean_squared_error(y_test, y_test_prediction))\n",
    "\n",
    "import sklearn.metrics as metrics\n",
    "\n",
    "print('MAE test 10 best:', metrics.mean_absolute_error(y_test, y_test_prediction))\n",
    "print('MSE test 10 best:', metrics.mean_squared_error(y_test, y_test_prediction))\n",
    "print('RMSE test 10 best:', np.sqrt(metrics.mean_squared_error(y_test, y_test_prediction)))\n",
    "\n",
    "from sklearn.metrics import r2_score\n",
    "print(\"R-Squared: \",r2_score(y_test,y_test_prediction))\n",
    "\n",
    "print('MAE train 10 best:', metrics.mean_absolute_error(y_train, y_train_prediction))\n",
    "print('MSE train 10 best:', metrics.mean_squared_error(y_train, y_train_prediction))\n",
    "print('RMSE train 10 best:', np.sqrt(metrics.mean_squared_error(y_train, y_train_prediction)))\n",
    "\n",
    "from sklearn.metrics import r2_score\n",
    "print(\"R-Squared: \",r2_score(y_train,y_train_prediction))\n",
    "\n",
    "\n"
   ]
  },
  {
   "cell_type": "code",
   "execution_count": 10,
   "metadata": {},
   "outputs": [
    {
     "name": "stdout",
     "output_type": "stream",
     "text": [
      "Index(['guardian_other', 'reason_other', 'nursery_yes', 'romantic_yes',\n",
      "       'reason_reputation', 'guardian_mother', 'famsup_yes', 'schoolsup_yes',\n",
      "       'famsize_LE3', 'Walc'],\n",
      "      dtype='object')\n",
      "(296, 11)\n",
      "(296, 1)\n",
      "(99, 11)\n",
      "(99, 1)\n",
      "(1, 11)\n",
      "[[ 0.03088058 -0.04470958  0.05814232 -0.00107945 -0.20098604  0.07175922\n",
      "  -0.01781166 -0.01652476 -0.10494309  0.07196759 -0.09128033]]\n",
      "0.43895241159495146\n",
      "(1, 11)\n",
      "theta (1, 11)\n",
      "y_test (99, 1)\n",
      "X_test (99, 11)\n",
      "y_test_pred (99, 1)\n",
      "MAE test 10 random: 0.7993768675164847\n",
      "MSE test 10 random: 1.150764026398382\n",
      "RMSE test 10 random: 1.072736699474005\n",
      "R-Squared -0.013313228886721484\n"
     ]
    },
    {
     "data": {
      "image/png": "[encoded data removed]",
      "text/plain": [
       "<Figure size 432x288 with 1 Axes>"
      ]
     },
     "metadata": {},
     "output_type": "display_data"
    }
   ],
   "source": [
    "#read the data\n",
    "#data = pd.read_csv(\"student-mat.csv\", sep=';')\n",
    "#my_data = pd.get_dummies(data,drop_first=True)\n",
    "\n",
    "\n",
    "data = pd.read_csv(\"student-mat.csv\", sep=';')\n",
    "#data = (data - data.mean())/data.std()\n",
    "\n",
    "#my_data = pd.get_dummies(data,drop_first=True)\n",
    "\n",
    "#we need to normalize the features using mean normalization\n",
    "my_data = pd.get_dummies(data,drop_first=True)\n",
    "\n",
    "my_data.iloc[:,:16] = (my_data.iloc[:,:16] - my_data.iloc[:,:16].mean())/my_data.iloc[:,:16].std()\n",
    "my_data.head()\n",
    "\n",
    "#we need to normalize the features using mean normalization\n",
    "my_data = (my_data - my_data.mean())/my_data.std()\n",
    "\n",
    "\n",
    "A = my_data.copy()\n",
    "y= my_data['G3'].values.reshape(395,1)\n",
    "A.drop(['G1','G2','G3'], axis=1, inplace=True)\n",
    "X = A[A.columns.to_series().sample(10)]\n",
    "print(X.columns)\n",
    "\n",
    "ones = np.ones([X.shape[0],1])\n",
    "X = np.concatenate((ones,X),axis=1)\n",
    "\n",
    "\n",
    "#y = my_data.iloc[:,].values #.values converts it from pandas.core.frame.DataFrame to numpy.ndarray\n",
    "#y = my_data.iloc[:,15:16].values #.values converts it from pandas.core.frame.DataFrame to numpy.ndarray\n",
    "\n",
    "\n",
    "X_train, X_test, y_train, y_test = train_test_split(X, y)\n",
    "theta = np.zeros([1,X_train.shape[1]])\n",
    "\n",
    "print(X_train.shape)\n",
    "print(y_train.shape)\n",
    "print(X_test.shape)\n",
    "print(y_test.shape)\n",
    "print(theta.shape)\n",
    "\n",
    "#set hyper parameters\n",
    "alpha = 0.001\n",
    "iters = 10000\n",
    "\n",
    "\n",
    "#running the gd and cost function\n",
    "g,cost = gradientDescent(X_train,y_train,theta,iters,alpha)\n",
    "print(g)\n",
    "\n",
    "finalCost = computeCost(X_train,y_train,g)\n",
    "print(finalCost)\n",
    "\n",
    "print(g.shape)\n",
    "#plot the cost\n",
    "fig, ax = plt.subplots()  \n",
    "ax.plot(np.arange(iters), cost, 'r')  \n",
    "ax.set_xlabel('Iterations')  \n",
    "ax.set_ylabel('Cost')  \n",
    "ax.set_title('Error vs. Training Epoch')\n",
    "\n",
    "g.shape\n",
    "thetas = g.reshape(11,1)\n",
    "y_test_prediction =  X_test.dot(thetas)  \n",
    "y_train_prediction = X_train.dot(thetas)\n",
    "\n",
    "print(\"theta\",g.shape)\n",
    "print(\"y_test\",y_test.shape)\n",
    "print(\"X_test\",X_test.shape)\n",
    "print(\"y_test_pred\",y_test_prediction.shape)\n",
    "\n",
    "# print(mean_squared_error(y_test, y_test_prediction))\n",
    "\n",
    "import sklearn.metrics as metrics\n",
    "\n",
    "print('MAE test 10 random:', metrics.mean_absolute_error(y_test, y_test_prediction))\n",
    "print('MSE test 10 random:', metrics.mean_squared_error(y_test, y_test_prediction))\n",
    "print('RMSE test 10 random:', np.sqrt(metrics.mean_squared_error(y_test, y_test_prediction)))\n",
    "\n",
    "from sklearn.metrics import r2_score\n",
    "print(\"R-Squared\",r2_score(y_test,y_test_prediction))\n"
   ]
  },
  {
   "cell_type": "code",
   "execution_count": 12,
   "metadata": {},
   "outputs": [
    {
     "name": "stdout",
     "output_type": "stream",
     "text": [
      "MAE train 10 random: 0.7093916370083019\n",
      "MSE train 10 random: 0.8779048231899029\n",
      "RMSE train 10 random: 0.93696575347763\n",
      "R-Squared 0.07280573332549534\n"
     ]
    }
   ],
   "source": [
    "import sklearn.metrics as metrics\n",
    "\n",
    "print('MAE train 10 random:', metrics.mean_absolute_error(y_train, y_train_prediction))\n",
    "print('MSE train 10 random:', metrics.mean_squared_error(y_train, y_train_prediction))\n",
    "print('RMSE train 10 random:', np.sqrt(metrics.mean_squared_error(y_train, y_train_prediction)))\n",
    "\n",
    "from sklearn.metrics import r2_score\n",
    "print(\"R-Squared\",r2_score(y_train,y_train_prediction))"
   ]
  },
  {
   "cell_type": "code",
   "execution_count": 13,
   "metadata": {},
   "outputs": [],
   "source": [
    "import numpy as np\n",
    "import pandas as pd\n",
    "import matplotlib.pyplot as plt\n",
    "import seaborn as sns\n",
    "from sklearn import metrics\n",
    "from sklearn.model_selection import train_test_split  \n",
    "%matplotlib inline"
   ]
  },
  {
   "cell_type": "code",
   "execution_count": 14,
   "metadata": {},
   "outputs": [],
   "source": [
    "data = pd.read_csv(\"student-mat.csv\", sep=';')\n",
    "data = pd.get_dummies(data,drop_first=True)\n",
    "\n",
    "data['result'] = 'na'\n",
    "data.loc[(data.G3 > 8), 'result'] = 1 \n",
    "data.loc[(data.G3 <= 8), 'result'] = 0 "
   ]
  },
  {
   "cell_type": "code",
   "execution_count": 15,
   "metadata": {},
   "outputs": [
    {
     "data": {
      "text/plain": [
       "1    293\n",
       "0    102\n",
       "Name: result, dtype: int64"
      ]
     },
     "execution_count": 15,
     "metadata": {},
     "output_type": "execute_result"
    }
   ],
   "source": [
    "data['result'].value_counts()"
   ]
  },
  {
   "cell_type": "code",
   "execution_count": 16,
   "metadata": {},
   "outputs": [
    {
     "data": {
      "text/plain": [
       "<matplotlib.axes._subplots.AxesSubplot at 0x24fdb5d29b0>"
      ]
     },
     "execution_count": 16,
     "metadata": {},
     "output_type": "execute_result"
    },
    {
     "data": {
      "image/png": "[encoded data removed]",
      "text/plain": [
       "<Figure size 432x288 with 1 Axes>"
      ]
     },
     "metadata": {},
     "output_type": "display_data"
    }
   ],
   "source": [
    "sns.countplot(x='result',data=data)"
   ]
  },
  {
   "cell_type": "code",
   "execution_count": 17,
   "metadata": {},
   "outputs": [],
   "source": [
    "X = data.drop(['result','G1','G2','G3'], axis=1)\n",
    "y = data['result']\n",
    "X=np.array(X[::])\n",
    "y=np.array(y[::])\n",
    "X_train, X_test, y_train, y_test = train_test_split(X, y)"
   ]
  },
  {
   "cell_type": "code",
   "execution_count": 18,
   "metadata": {},
   "outputs": [],
   "source": [
    "class LogisticRegression:\n",
    "    def __init__(self, alpha=0.01, num_iter=100000, fit_intercept=True, verbose=False):\n",
    "        self.lr = alpha\n",
    "        self.num_iter = num_iter\n",
    "        self.fit_intercept = fit_intercept\n",
    "        self.verbose=verbose\n",
    "    \n",
    "    def __add_intercept(self, X):\n",
    "        intercept = np.ones((X.shape[0], 1))\n",
    "        return np.concatenate((intercept, X), axis=1)\n",
    "    \n",
    "    def __sigmoid(self, z):\n",
    "        return 1 / (1 + np.exp(-z))\n",
    "    def __loss(self, h, y):\n",
    "        return (-y * np.log(h) - (1 - y) * np.log(1 - h)).mean()\n",
    "    \n",
    "    def fit(self, X, y):\n",
    "        if self.fit_intercept:\n",
    "            X = self.__add_intercept(X)\n",
    "        \n",
    "        # weights initialization\n",
    "        self.theta = np.zeros(X.shape[1])\n",
    "        \n",
    "        for i in range(self.num_iter):\n",
    "            z = np.dot(X, self.theta)\n",
    "            h = self.__sigmoid(z)\n",
    "            gradient = np.dot(X.T, (h - y)) / y.size\n",
    "            self.theta -= self.lr * gradient\n",
    "            \n",
    "            if(self.verbose == True and i % 10000 == 0):\n",
    "                z = np.dot(X, self.theta)\n",
    "                h = self.__sigmoid(z)\n",
    "                print(f'loss: {self.__loss(h, y)} \\t')\n",
    "    \n",
    "    def predict_prob(self, X):\n",
    "        if self.fit_intercept:\n",
    "            X = self.__add_intercept(X)\n",
    "    \n",
    "        return self.__sigmoid(np.dot(X, self.theta))\n",
    "    \n",
    "    def predict(self, X, threshold):\n",
    "        return self.predict_prob(X) >= threshold"
   ]
  },
  {
   "cell_type": "code",
   "execution_count": 19,
   "metadata": {},
   "outputs": [
    {
     "name": "stdout",
     "output_type": "stream",
     "text": [
      "loss: 0.5687856033314344 \t\n",
      "loss: 0.44603184052115136 \t\n",
      "loss: 0.443742476039583 \t\n",
      "loss: 0.4431129350102441 \t\n",
      "loss: 0.4428489155712979 \t\n",
      "loss: 0.44270106191712816 \t\n",
      "loss: 0.442599368884514 \t\n",
      "loss: 0.44252016396409405 \t\n",
      "loss: 0.44245417911518736 \t\n",
      "loss: 0.442397161549872 \t\n",
      "loss: 0.4423468087252527 \t\n",
      "loss: 0.4423016855142292 \t\n",
      "loss: 0.44226080548209146 \t\n",
      "loss: 0.44222344864649143 \t\n",
      "loss: 0.4421890702312215 \t\n",
      "loss: 0.4421572483554275 \t\n",
      "loss: 0.4421276507078433 \t\n",
      "loss: 0.44210001178360636 \t\n",
      "loss: 0.44207411666625823 \t\n",
      "loss: 0.44204978917802307 \t\n",
      "loss: 0.44202688308371835 \t\n",
      "loss: 0.44200527549030744 \t\n",
      "loss: 0.4419848618534223 \t\n",
      "loss: 0.4419655521741644 \t\n",
      "loss: 0.4419472680853076 \t\n",
      "loss: 0.4419299406066599 \t\n",
      "loss: 0.441913508406771 \t\n",
      "loss: 0.441897916449665 \t\n",
      "loss: 0.4418831149356289 \t\n",
      "loss: 0.4418690584674689 \t\n",
      "Wall time: 10.3 s\n"
     ]
    }
   ],
   "source": [
    "model = LogisticRegression(alpha=0.01, num_iter=300000,verbose=True)\n",
    "%time model.fit(X_train, y_train)\n",
    "\n",
    "y_test_predictions = model.predict(X_test,threshold=0.5)\n",
    "y_train_predictions = model.predict(X_train,threshold=0.5)\n"
   ]
  },
  {
   "cell_type": "code",
   "execution_count": 20,
   "metadata": {},
   "outputs": [
    {
     "name": "stdout",
     "output_type": "stream",
     "text": [
      "For the test data all\n",
      "\n",
      "             precision    recall  f1-score   support\n",
      "\n",
      "          0       0.38      0.22      0.28        27\n",
      "          1       0.75      0.86      0.80        72\n",
      "\n",
      "avg / total       0.65      0.69      0.66        99\n",
      "\n",
      "[[ 6 21]\n",
      " [10 62]]\n",
      "\n",
      "\n",
      "For the train data all\n",
      "\n",
      "             precision    recall  f1-score   support\n",
      "\n",
      "          0       0.76      0.41      0.53        75\n",
      "          1       0.83      0.95      0.89       221\n",
      "\n",
      "avg / total       0.81      0.82      0.80       296\n",
      "\n",
      "[[ 31  44]\n",
      " [ 10 211]]\n"
     ]
    }
   ],
   "source": [
    "from sklearn.metrics import classification_report\n",
    "from sklearn.metrics import confusion_matrix\n",
    "print('For the test data all\\n')\n",
    "print(classification_report(y_test,y_test_predictions))\n",
    "print(confusion_matrix(y_test,y_test_predictions))\n",
    "print('\\n\\nFor the train data all\\n')\n",
    "print(classification_report(y_train,y_train_predictions))\n",
    "print(confusion_matrix(y_train,y_train_predictions))"
   ]
  },
  {
   "cell_type": "code",
   "execution_count": 21,
   "metadata": {},
   "outputs": [],
   "source": [
    "data = pd.read_csv(\"student-mat.csv\", sep=';')\n",
    "data = pd.get_dummies(data,drop_first=True)\n",
    "\n",
    "data['result'] = 'na'\n",
    "data.loc[(data.G3 > 8), 'result'] = 1 \n",
    "data.loc[(data.G3 <= 8), 'result'] = 0 "
   ]
  },
  {
   "cell_type": "code",
   "execution_count": 22,
   "metadata": {},
   "outputs": [
    {
     "name": "stdout",
     "output_type": "stream",
     "text": [
      "Index(['paid_yes', 'guardian_other', 'Mjob_health', 'traveltime',\n",
      "       'activities_yes', 'Fjob_services', 'sex_M', 'health', 'Mjob_services',\n",
      "       'Fjob_other'],\n",
      "      dtype='object')\n"
     ]
    }
   ],
   "source": [
    "X = data.drop(['result','G1','G2','G3'], axis=1)\n",
    "X = X[X.columns.to_series().sample(10)]\n",
    "y = data['result']\n",
    "print(X.columns)\n",
    "X=np.array(X[::])\n",
    "y=np.array(y[::])\n",
    "\n",
    "\n",
    "X_train, X_test, y_train, y_test = train_test_split(X, y)"
   ]
  },
  {
   "cell_type": "code",
   "execution_count": 23,
   "metadata": {},
   "outputs": [
    {
     "name": "stdout",
     "output_type": "stream",
     "text": [
      "loss: 0.6833444790284379 \t\n",
      "loss: 0.5436754860810172 \t\n",
      "loss: 0.542641372936775 \t\n",
      "loss: 0.5424527019998248 \t\n",
      "loss: 0.542412516459747 \t\n",
      "loss: 0.5424034703913184 \t\n",
      "loss: 0.5424013900717408 \t\n",
      "loss: 0.5424009072736418 \t\n",
      "loss: 0.5424007947417299 \t\n",
      "loss: 0.5424007684543477 \t\n",
      "loss: 0.542400762306242 \t\n",
      "loss: 0.5424007608673438 \t\n",
      "loss: 0.5424007605304528 \t\n",
      "loss: 0.5424007604515577 \t\n",
      "loss: 0.5424007604330793 \t\n",
      "loss: 0.5424007604287507 \t\n",
      "loss: 0.5424007604277369 \t\n",
      "loss: 0.5424007604274994 \t\n",
      "loss: 0.5424007604274438 \t\n",
      "loss: 0.5424007604274306 \t\n",
      "loss: 0.5424007604274277 \t\n",
      "loss: 0.5424007604274269 \t\n",
      "loss: 0.5424007604274268 \t\n",
      "loss: 0.5424007604274267 \t\n",
      "loss: 0.5424007604274268 \t\n",
      "loss: 0.5424007604274267 \t\n",
      "loss: 0.5424007604274268 \t\n",
      "loss: 0.5424007604274268 \t\n",
      "loss: 0.5424007604274267 \t\n",
      "loss: 0.5424007604274268 \t\n",
      "Wall time: 9.02 s\n"
     ]
    }
   ],
   "source": [
    "model = LogisticRegression(alpha=0.01, num_iter=300000,verbose=True)\n",
    "%time model.fit(X_train, y_train)\n",
    "\n",
    "y_test_predictions = model.predict(X_test,threshold=0.5)\n",
    "y_train_predictions = model.predict(X_train,threshold=0.5)"
   ]
  },
  {
   "cell_type": "code",
   "execution_count": 24,
   "metadata": {},
   "outputs": [
    {
     "name": "stdout",
     "output_type": "stream",
     "text": [
      "For the test data 10 random\n",
      "\n",
      "             precision    recall  f1-score   support\n",
      "\n",
      "          0       0.00      0.00      0.00        29\n",
      "          1       0.71      1.00      0.83        70\n",
      "\n",
      "avg / total       0.50      0.71      0.59        99\n",
      "\n",
      "[[ 0 29]\n",
      " [ 0 70]]\n",
      "\n",
      "\n",
      "For the train data 10 random\n",
      "\n",
      "             precision    recall  f1-score   support\n",
      "\n",
      "          0       0.00      0.00      0.00        73\n",
      "          1       0.75      1.00      0.86       223\n",
      "\n",
      "avg / total       0.57      0.75      0.65       296\n",
      "\n",
      "[[  0  73]\n",
      " [  0 223]]\n"
     ]
    },
    {
     "name": "stderr",
     "output_type": "stream",
     "text": [
      "C:\\Users\\vkm170130\\AppData\\Local\\Continuum\\anaconda3\\lib\\site-packages\\sklearn\\metrics\\classification.py:1135: UndefinedMetricWarning: Precision and F-score are ill-defined and being set to 0.0 in labels with no predicted samples.\n",
      "  'precision', 'predicted', average, warn_for)\n",
      "C:\\Users\\vkm170130\\AppData\\Local\\Continuum\\anaconda3\\lib\\site-packages\\sklearn\\metrics\\classification.py:1135: UndefinedMetricWarning: Precision and F-score are ill-defined and being set to 0.0 in labels with no predicted samples.\n",
      "  'precision', 'predicted', average, warn_for)\n"
     ]
    }
   ],
   "source": [
    "from sklearn.metrics import classification_report\n",
    "from sklearn.metrics import confusion_matrix\n",
    "print('For the test data 10 random\\n')\n",
    "print(classification_report(y_test,y_test_predictions))\n",
    "print(confusion_matrix(y_test,y_test_predictions))\n",
    "print('\\n\\nFor the train data 10 random\\n')\n",
    "print(classification_report(y_train,y_train_predictions))\n",
    "print(confusion_matrix(y_train,y_train_predictions))"
   ]
  },
  {
   "cell_type": "code",
   "execution_count": 25,
   "metadata": {},
   "outputs": [],
   "source": [
    "data = pd.read_csv(\"student-mat.csv\", sep=';')\n",
    "data = pd.get_dummies(data,drop_first=True)\n",
    "\n",
    "data['result'] = 'na'\n",
    "data.loc[(data.G3 > 8), 'result'] = 1 \n",
    "data.loc[(data.G3 <= 8), 'result'] = 0 "
   ]
  },
  {
   "cell_type": "code",
   "execution_count": 26,
   "metadata": {},
   "outputs": [
    {
     "name": "stdout",
     "output_type": "stream",
     "text": [
      "Index(['age', 'Medu', 'Fedu', 'traveltime', 'failures', 'goout', 'address_U',\n",
      "       'Mjob_health', 'paid_yes', 'higher_yes'],\n",
      "      dtype='object')\n"
     ]
    }
   ],
   "source": [
    "X=data.copy()\n",
    "X.drop(['famrel', 'freetime', 'Dalc', 'Walc', 'health', 'absences', 'school_MS',\n",
    "       'sex_M', 'famsize_LE3', 'Pstatus_T', 'Mjob_other', 'Mjob_services', 'Mjob_teacher', 'Fjob_health',\n",
    "       'Fjob_other', 'Fjob_services', 'Fjob_teacher', 'reason_home',\n",
    "       'reason_other', 'reason_reputation', 'guardian_mother',\n",
    "       'guardian_other', 'schoolsup_yes', 'famsup_yes',\n",
    "       'activities_yes', 'nursery_yes', 'internet_yes', 'G1', 'G2', 'G3', 'studytime','romantic_yes','result'], axis=1, inplace=True)\n",
    "y = data['result']\n",
    "print(X.columns)\n",
    "X=np.array(X[::])\n",
    "y=np.array(y[::])\n",
    "\n",
    "\n",
    "X_train, X_test, y_train, y_test = train_test_split(X, y)"
   ]
  },
  {
   "cell_type": "code",
   "execution_count": 27,
   "metadata": {},
   "outputs": [
    {
     "name": "stdout",
     "output_type": "stream",
     "text": [
      "loss: 0.5827813687337212 \t\n",
      "loss: 0.5084876907201913 \t\n",
      "loss: 0.508317274508544 \t\n",
      "loss: 0.5082310144015527 \t\n",
      "loss: 0.5081592472766125 \t\n",
      "loss: 0.5080956777531298 \t\n",
      "loss: 0.5080389069248435 \t\n",
      "loss: 0.5079881539741972 \t\n",
      "loss: 0.5079427744151856 \t\n",
      "loss: 0.5079021982154114 \t\n",
      "loss: 0.5078659164532519 \t\n",
      "loss: 0.507833474216763 \t\n",
      "loss: 0.5078044648130451 \t\n",
      "loss: 0.5077785246538987 \t\n",
      "loss: 0.5077553286886927 \t\n",
      "loss: 0.5077345863203522 \t\n",
      "loss: 0.5077160377531118 \t\n",
      "loss: 0.5076994507266674 \t\n",
      "loss: 0.507684617596124 \t\n",
      "loss: 0.5076713527213272 \t\n",
      "loss: 0.5076594901329491 \t\n",
      "loss: 0.5076488814460921 \t\n",
      "loss: 0.5076393939952348 \t\n",
      "loss: 0.5076309091670812 \t\n",
      "loss: 0.5076233209103456 \t\n",
      "loss: 0.5076165344037084 \t\n",
      "loss: 0.5076104648651611 \t\n",
      "loss: 0.507605036487735 \t\n",
      "loss: 0.5076001814881885 \t\n",
      "loss: 0.5075958392566642 \t\n",
      "Wall time: 9.14 s\n"
     ]
    }
   ],
   "source": [
    "model = LogisticRegression(alpha=0.01, num_iter=300000,verbose=True)\n",
    "%time model.fit(X_train, y_train)\n",
    "\n",
    "y_test_predictions = model.predict(X_test,threshold=0.5)\n",
    "y_train_predictions = model.predict(X_train,threshold=0.5)"
   ]
  },
  {
   "cell_type": "code",
   "execution_count": 28,
   "metadata": {},
   "outputs": [
    {
     "name": "stdout",
     "output_type": "stream",
     "text": [
      "For the test data 10 best\n",
      "\n",
      "             precision    recall  f1-score   support\n",
      "\n",
      "          0       0.82      0.35      0.49        26\n",
      "          1       0.81      0.97      0.88        73\n",
      "\n",
      "avg / total       0.81      0.81      0.78        99\n",
      "\n",
      "[[ 9 17]\n",
      " [ 2 71]]\n",
      "For the train data 10 best\n",
      "\n",
      "             precision    recall  f1-score   support\n",
      "\n",
      "          0       0.67      0.21      0.32        76\n",
      "          1       0.78      0.96      0.86       220\n",
      "\n",
      "avg / total       0.75      0.77      0.72       296\n",
      "\n",
      "[[ 16  60]\n",
      " [  8 212]]\n"
     ]
    }
   ],
   "source": [
    "from sklearn.metrics import classification_report\n",
    "from sklearn.metrics import confusion_matrix\n",
    "print('For the test data 10 best\\n')\n",
    "print(classification_report(y_test,y_test_predictions))\n",
    "print(confusion_matrix(y_test,y_test_predictions))\n",
    "print('For the train data 10 best\\n')\n",
    "print(classification_report(y_train,y_train_predictions))\n",
    "print(confusion_matrix(y_train,y_train_predictions))"
   ]
  },
  {
   "cell_type": "code",
   "execution_count": null,
   "metadata": {},
   "outputs": [],
   "source": []
  }
 ],
 "metadata": {
  "kernelspec": {
   "display_name": "Python 3",
   "language": "python",
   "name": "python3"
  },
  "language_info": {
   "codemirror_mode": {
    "name": "ipython",
    "version": 3
   },
   "file_extension": ".py",
   "mimetype": "text/x-python",
   "name": "python",
   "nbconvert_exporter": "python",
   "pygments_lexer": "ipython3",
   "version": "3.6.5"
  }
 },
 "nbformat": 4,
 "nbformat_minor": 2
}
