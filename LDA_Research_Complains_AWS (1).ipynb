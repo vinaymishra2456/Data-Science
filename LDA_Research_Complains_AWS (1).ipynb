{
 "cells": [
  {
   "cell_type": "markdown",
   "metadata": {},
   "source": [
    "# LDA using PySpark"
   ]
  },
  {
   "cell_type": "code",
   "execution_count": 1,
   "metadata": {},
   "outputs": [],
   "source": [
    "from pyspark.sql.functions import instr,col\n",
    "\n",
    "from pyspark.sql import SparkSession\n",
    "spark = SparkSession.builder.appName(\"Spark_LDA\").enableHiveSupport().getOrCreate()"
   ]
  },
  {
   "cell_type": "code",
   "execution_count": 2,
   "metadata": {},
   "outputs": [
    {
     "data": {
      "text/html": [
       "\n",
       "            <div>\n",
       "                <p><b>SparkSession - hive</b></p>\n",
       "                \n",
       "        <div>\n",
       "            <p><b>SparkContext</b></p>\n",
       "\n",
       "            <p><a href=\"http://192.168.116.131:4040\">Spark UI</a></p>\n",
       "\n",
       "            <dl>\n",
       "              <dt>Version</dt>\n",
       "                <dd><code>v2.2.1</code></dd>\n",
       "              <dt>Master</dt>\n",
       "                <dd><code>local[*]</code></dd>\n",
       "              <dt>AppName</dt>\n",
       "                <dd><code>Spark_LDA</code></dd>\n",
       "            </dl>\n",
       "        </div>\n",
       "        \n",
       "            </div>\n",
       "        "
      ],
      "text/plain": [
       "<pyspark.sql.session.SparkSession at 0x7fe35caa2588>"
      ]
     },
     "execution_count": 2,
     "metadata": {},
     "output_type": "execute_result"
    }
   ],
   "source": [
    "spark"
   ]
  },
  {
   "cell_type": "code",
   "execution_count": 3,
   "metadata": {},
   "outputs": [
    {
     "name": "stdout",
     "output_type": "stream",
     "text": [
      "root\n",
      " |-- date_received: string (nullable = true)\n",
      " |-- product: string (nullable = true)\n",
      " |-- sub_product: string (nullable = true)\n",
      " |-- issue: string (nullable = true)\n",
      " |-- sub_issue: string (nullable = true)\n",
      " |-- consumer_complaint_narrative: string (nullable = true)\n",
      " |-- company_public_response: string (nullable = true)\n",
      " |-- company: string (nullable = true)\n",
      " |-- state: string (nullable = true)\n",
      " |-- zip_code: string (nullable = true)\n",
      " |-- tags: string (nullable = true)\n",
      " |-- consumer_consent_provided: string (nullable = true)\n",
      " |-- submitted_via: string (nullable = true)\n",
      " |-- date_sent_to_company: string (nullable = true)\n",
      " |-- company_response: string (nullable = true)\n",
      " |-- timely_response: string (nullable = true)\n",
      " |-- consumer_disputed: string (nullable = true)\n",
      " |-- complaint_id: string (nullable = true)\n",
      "\n"
     ]
    }
   ],
   "source": [
    "# Repartition to 5 paritions - coalesce(5)\n",
    "df = spark.sql(\"select * from cust_complains.cust_complaints_all_csv_raw\")\n",
    "df.printSchema()"
   ]
  },
  {
   "cell_type": "code",
   "execution_count": 14,
   "metadata": {},
   "outputs": [],
   "source": [
    "from pyspark.mllib.clustering import LDA, LDAModel\n",
    "from pyspark.mllib.linalg import Vectors\n",
    "from pyspark.ml.feature import CountVectorizer, IDF,RegexTokenizer, Tokenizer\n",
    "\n",
    "from pyspark.sql.types import *\n",
    "from pyspark.sql.functions import udf\n",
    "from pyspark.sql.functions import struct\n",
    "import re\n",
    "from pyspark.ml.feature import StopWordsRemover\n",
    "from pyspark.ml.clustering import LDA\n",
    "from pyspark.ml.feature import CountVectorizer"
   ]
  },
  {
   "cell_type": "code",
   "execution_count": 4,
   "metadata": {
    "scrolled": true
   },
   "outputs": [
    {
     "name": "stdout",
     "output_type": "stream",
     "text": [
      "+------------------------------------------------------------------------------------------------------------------------------------------------------------------------------------------------------------------------------------------------------------------------------------------------------------------------------------------------------------------------------------------------------------------------------------------------------------------------------------------------------------------------------------------------------------------------------------------------------------------------------------------------------------------------------------------------------------------------------------------------------------------------------------------------------------------------------------------------------------------------------------------------------------------------------------------------------------------------------------------------------------------------------------------------------------------------------------------------------------------------------+-----------------------------------------------------------------------------------------------+\n",
      "|consumer_complaint_narrative                                                                                                                                                                                                                                                                                                                                                                                                                                                                                                                                                                                                                                                                                                                                                                                                                                                                                                                                                                                                                                                                                                  |company_public_response                                                                        |\n",
      "+------------------------------------------------------------------------------------------------------------------------------------------------------------------------------------------------------------------------------------------------------------------------------------------------------------------------------------------------------------------------------------------------------------------------------------------------------------------------------------------------------------------------------------------------------------------------------------------------------------------------------------------------------------------------------------------------------------------------------------------------------------------------------------------------------------------------------------------------------------------------------------------------------------------------------------------------------------------------------------------------------------------------------------------------------------------------------------------------------------------------------+-----------------------------------------------------------------------------------------------+\n",
      "|Upon looking at my credit file in XXXX of XXXX, I realized there was a collection being report to XXXX   in the amount of {$3400.00} by a company called Perfection Collection. The company said the debt was opened on XX/XX/XXXX This debt is most certainly not mine, and I'd like the matter resolved and removed from my credit file.                                                                                                                                                                                                                                                                                                                                                                                                                                                                                                                                                                                                                                                                                                                                                                                    |Company believes it acted appropriately as authorized by contract or law                       |\n",
      "|Upon opening up a Wells Fargo checking account I was asked if I wanted a credit or debit card. I stated my desire for a credit card and sent a debit card. I check with the WF official and was informed that they ordered me a debit card as it offered me additional benefits. I asked about all the other benefits associated with the credit card and was informed that they were identical. Upon needing to use a credit card benefit, I was informed that the benefit was not on the debit card. Wells Fargo was contacted and a representive in the Executive Office indicated that there was an internal investigation and the bank was unable to help. This is clearly a matter where an employee, a number of years ago, went against my request and unilaterally sent a different card. Then the employee gave assurances that the card benefits were the same between the credit and debit card. A consumer should not be the subject of mis-information and the results of the internal investigation should be shared.                                                                                          |Company has responded to the consumer and the CFPB and chooses not to provide a public response|\n",
      "|I XXXX XXXX has got into contact with XXXX ( XXXX XXXX XXXX ) about two inquiries on my credit report. I have never heard of them. The accounts have opened in XX/XX/XXXX for XXXX and the other account opened in XX/XX/XXXX. I paid the XXXX in XXXX of XXXX. When i asked if they were for the same reason and why im charged with two separate bills instead of one their answer was these are two separate bills from XXXX XXXX private doctors. I never had a private Doctor. I called XXXX XXXX XXXX XXXX a nice lady on the phone said my accounts were paid in full and i had no other bills on record. So where is this coming from. XXXX never sent out letters to pay a bill i never received information on who the private doctors are and why im getting billed for something i dont know anything about. I dont know the Doctors names dates i recived the bills or what they were for. XXXX was also know for XXXX XXXX XXXX. I dont know who this bill collector is. They are from Florida. I live in Alabama. XXXX XXXX XXXX XXXX XXXX, Fl XXXX. I paid XXXX to them. I just hope that i didnt get screwed.|Company has responded to the consumer and the CFPB and chooses not to provide a public response|\n",
      "|An account in my credit is showing late, this account has never been late, this inacurate reporting has affected my ability to get funding and has made me pay higher interes. Please remove this late in my credit report.                                                                                                                                                                                                                                                                                                                                                                                                                                                                                                                                                                                                                                                                                                                                                                                                                                                                                                   |Company has responded to the consumer and the CFPB and chooses not to provide a public response|\n",
      "|I have a loan with BANK OF AMERICA, N.A and XXXX XXXX. I have always made my payments on time. For some reason I realized that there was a late payment on my credit report. As you can see, I have always had a stellar payment record with this company. I tried contacting both XXXX XXXX, BANK OF AMERICA, N.A and XXXX XXXX with no successful resolution. XXXX and XXXX were reporting me late. There was definitely an error on their part. I was never 30 days late.                                                                                                                                                                                                                                                                                                                                                                                                                                                                                                                                                                                                                                                  |Company has responded to the consumer and the CFPB and chooses not to provide a public response|\n",
      "+------------------------------------------------------------------------------------------------------------------------------------------------------------------------------------------------------------------------------------------------------------------------------------------------------------------------------------------------------------------------------------------------------------------------------------------------------------------------------------------------------------------------------------------------------------------------------------------------------------------------------------------------------------------------------------------------------------------------------------------------------------------------------------------------------------------------------------------------------------------------------------------------------------------------------------------------------------------------------------------------------------------------------------------------------------------------------------------------------------------------------+-----------------------------------------------------------------------------------------------+\n",
      "only showing top 5 rows\n",
      "\n"
     ]
    }
   ],
   "source": [
    "df.createOrReplaceTempView(\"ComplaintData\")\n",
    "df.select(['consumer_complaint_narrative','company_public_response']).show(5, False)"
   ]
  },
  {
   "cell_type": "code",
   "execution_count": 6,
   "metadata": {},
   "outputs": [],
   "source": [
    "from pyspark.sql.functions import monotonically_increasing_id\n",
    "\n",
    "corpus =df.select('consumer_complaint_narrative')\n",
    "corpus_df = corpus.withColumn(\"id\", monotonically_increasing_id())"
   ]
  },
  {
   "cell_type": "code",
   "execution_count": 7,
   "metadata": {},
   "outputs": [
    {
     "name": "stdout",
     "output_type": "stream",
     "text": [
      "+----------------------------+---+\n",
      "|consumer_complaint_narrative| id|\n",
      "+----------------------------+---+\n",
      "|        Upon looking at m...|  0|\n",
      "|        Upon opening up a...|  1|\n",
      "|        I XXXX XXXX has g...|  2|\n",
      "|        An account in my ...|  3|\n",
      "|        I have a loan wit...|  4|\n",
      "|        Febuary XXXX - XX...|  5|\n",
      "|        Alert from XXXX o...|  6|\n",
      "|        Back in XX/XX/201...|  7|\n",
      "|        On XX/XX/XXXX, I ...|  8|\n",
      "|        Experian intentio...|  9|\n",
      "|        About six months ...| 10|\n",
      "|        Banks website mal...| 11|\n",
      "|        I called the coll...| 12|\n",
      "|        On XX/XX/XXXX, I ...| 13|\n",
      "|        This company is v...| 14|\n",
      "|        XXXX XXXX alleges...| 15|\n",
      "|        When reviewing my...| 16|\n",
      "|        Today : XX/XX/201...| 17|\n",
      "|        I reached out to ...| 18|\n",
      "|        There are many mi...| 19|\n",
      "+----------------------------+---+\n",
      "only showing top 20 rows\n",
      "\n"
     ]
    }
   ],
   "source": [
    "corpus_df.show()"
   ]
  },
  {
   "cell_type": "code",
   "execution_count": 10,
   "metadata": {},
   "outputs": [
    {
     "name": "stdout",
     "output_type": "stream",
     "text": [
      "+----------------------------+--------------------+------+\n",
      "|consumer_complaint_narrative|               words|tokens|\n",
      "+----------------------------+--------------------+------+\n",
      "|        Upon looking at m...|[upon, looking, a...|    63|\n",
      "|        Upon opening up a...|[upon, opening, u...|   179|\n",
      "|        I XXXX XXXX has g...|[i, xxxx, xxxx, h...|   216|\n",
      "|        An account in my ...|[an, account, in,...|    39|\n",
      "|        I have a loan wit...|[i, have, a, loan...|    90|\n",
      "|        Febuary XXXX - XX...|[febuary, xxxx, x...|    78|\n",
      "|        Alert from XXXX o...|[alert, from, xxx...|    55|\n",
      "|        Back in XX/XX/201...|[back, in, xx, xx...|   328|\n",
      "|        On XX/XX/XXXX, I ...|[on, xx, xx, xxxx...|   105|\n",
      "|        Experian intentio...|[experian, intent...|    91|\n",
      "|        About six months ...|[about, six, mont...|    73|\n",
      "|        Banks website mal...|[banks, website, ...|    13|\n",
      "|        I called the coll...|[i, called, the, ...|   180|\n",
      "|        On XX/XX/XXXX, I ...|[on, xx, xx, xxxx...|   615|\n",
      "|        This company is v...|[this, company, i...|   112|\n",
      "|        XXXX XXXX alleges...|[xxxx, xxxx, alle...|   404|\n",
      "|        When reviewing my...|[when, reviewing,...|   216|\n",
      "|        Today : XX/XX/201...|[today, xx, xx, 2...|   126|\n",
      "|        I reached out to ...|[i, reached, out,...|    95|\n",
      "|        There are many mi...|[there, are, many...|    11|\n",
      "+----------------------------+--------------------+------+\n",
      "only showing top 20 rows\n",
      "\n"
     ]
    }
   ],
   "source": [
    "tokenizer = Tokenizer(inputCol=\"consumer_complaint_narrative\", outputCol=\"words\")\n",
    "countTokens = udf(lambda words: len(words), IntegerType())\n",
    "\n",
    "regexTokenizer = RegexTokenizer(inputCol=\"consumer_complaint_narrative\", \n",
    "                                outputCol=\"words\",pattern=\"\\\\w+\", gaps=False)\n",
    "\n",
    "tokenized_df = regexTokenizer.transform(corpus_df)\n",
    "tokenized_df.select(\"consumer_complaint_narrative\", \"words\") \\\n",
    "    .withColumn(\"tokens\", countTokens(col(\"words\"))).show()"
   ]
  },
  {
   "cell_type": "code",
   "execution_count": 16,
   "metadata": {},
   "outputs": [
    {
     "name": "stdout",
     "output_type": "stream",
     "text": [
      "+----------------------------+---+--------------------+--------------------+\n",
      "|consumer_complaint_narrative| id|               words|            filtered|\n",
      "+----------------------------+---+--------------------+--------------------+\n",
      "|        Upon looking at m...|  0|[upon, looking, a...|[upon, looking, c...|\n",
      "|        Upon opening up a...|  1|[upon, opening, u...|[upon, opening, w...|\n",
      "|        I XXXX XXXX has g...|  2|[i, xxxx, xxxx, h...|[xxxx, xxxx, got,...|\n",
      "|        An account in my ...|  3|[an, account, in,...|[account, credit,...|\n",
      "|        I have a loan wit...|  4|[i, have, a, loan...|[loan, bank, amer...|\n",
      "+----------------------------+---+--------------------+--------------------+\n",
      "only showing top 5 rows\n",
      "\n",
      "+----------------------------+---+--------------------+--------------------+--------------------+\n",
      "|consumer_complaint_narrative| id|               words|            filtered|       filtered_more|\n",
      "+----------------------------+---+--------------------+--------------------+--------------------+\n",
      "|        Upon looking at m...|  0|[upon, looking, a...|[upon, looking, c...|[upon, looking, c...|\n",
      "|        Upon opening up a...|  1|[upon, opening, u...|[upon, opening, w...|[upon, opening, w...|\n",
      "|        I XXXX XXXX has g...|  2|[i, xxxx, xxxx, h...|[xxxx, xxxx, got,...|[got, contact, tw...|\n",
      "|        An account in my ...|  3|[an, account, in,...|[account, credit,...|[account, credit,...|\n",
      "|        I have a loan wit...|  4|[i, have, a, loan...|[loan, bank, amer...|[loan, bank, amer...|\n",
      "+----------------------------+---+--------------------+--------------------+--------------------+\n",
      "only showing top 5 rows\n",
      "\n"
     ]
    }
   ],
   "source": [
    "remover = StopWordsRemover(inputCol=\"words\", outputCol=\"filtered\")\n",
    "tokenized_df1 = remover.transform(tokenized_df)\n",
    "tokenized_df1.show(5)\n",
    "\n",
    "stopwordList = [\"x\",\"xx\",\"xxx\",\"xxxx\",\"xxxxx\",\"xxxxxx\",\"xxxxxxx\",\"mr\",\"mrs\",\"00\",\"oh\",\"one\",\"also\"]\n",
    "\n",
    "remover=StopWordsRemover(inputCol=\"filtered\", outputCol=\"filtered_more\" ,stopWords=stopwordList)\n",
    "tokenized_df2 = remover.transform(tokenized_df1)\n",
    "tokenized_df2.show(5)"
   ]
  },
  {
   "cell_type": "code",
   "execution_count": 17,
   "metadata": {},
   "outputs": [
    {
     "name": "stdout",
     "output_type": "stream",
     "text": [
      "+--------------------+--------------------+---+\n",
      "|       filtered_more|            features| id|\n",
      "+--------------------+--------------------+---+\n",
      "|[upon, looking, c...|(10000,[0,2,6,8,1...|  0|\n",
      "|[upon, opening, w...|(10000,[0,1,3,10,...|  1|\n",
      "|[got, contact, tw...|(10000,[0,1,2,3,7...|  2|\n",
      "|[account, credit,...|(10000,[0,1,2,13,...|  3|\n",
      "|[loan, bank, amer...|(10000,[0,2,4,5,8...|  4|\n",
      "+--------------------+--------------------+---+\n",
      "only showing top 5 rows\n",
      "\n"
     ]
    }
   ],
   "source": [
    "cv = CountVectorizer(inputCol=\"filtered_more\", outputCol=\"features\", vocabSize = 10000)\n",
    "cvmodel = cv.fit(tokenized_df2)\n",
    "featurized_df = cvmodel.transform(tokenized_df2)\n",
    "vocab = cvmodel.vocabulary\n",
    "featurized_df.select('filtered_more','features','id').show(5)"
   ]
  },
  {
   "cell_type": "code",
   "execution_count": 18,
   "metadata": {},
   "outputs": [],
   "source": [
    "countVectors = featurized_df.select('features','id')"
   ]
  },
  {
   "cell_type": "markdown",
   "metadata": {},
   "source": [
    "## Train LDA model"
   ]
  },
  {
   "cell_type": "code",
   "execution_count": 19,
   "metadata": {},
   "outputs": [
    {
     "name": "stdout",
     "output_type": "stream",
     "text": [
      "The lower bound on the log likelihood of the entire corpus: -8657642.026401002\n",
      "The upper bound on perplexity: 7.458171790353653\n",
      "The topics described by their top-weighted terms:\n",
      "+-----+--------------+--------------------------------------------------------------------+\n",
      "|topic|termIndices   |termWeights                                                         |\n",
      "+-----+--------------+--------------------------------------------------------------------+\n",
      "|0    |[0, 1, 4]     |[0.020185206405448037, 0.0186687411770416, 0.008985970914710156]    |\n",
      "|1    |[2, 0, 82]    |[0.003970772391742825, 0.0038309009920069353, 0.0036029520317694495]|\n",
      "|2    |[0, 1, 2]     |[0.003963178934989447, 0.0038974800560549246, 0.00235463783726663]  |\n",
      "|3    |[0, 2, 3]     |[0.029344246029582546, 0.02212993975454568, 0.011351373867695603]   |\n",
      "|4    |[1, 0, 2]     |[0.004577031505987845, 0.002359274330132775, 0.0016428745552727584] |\n",
      "|5    |[11, 104, 21] |[0.017133051165292307, 0.012095843754325498, 0.011778703656415595]  |\n",
      "|6    |[1, 479, 0]   |[0.008180177642429157, 0.006492114989703483, 0.0029999838170881666] |\n",
      "|7    |[48, 152, 162]|[0.01164217938971182, 0.009170367150792164, 0.009127957825172025]   |\n",
      "|8    |[1, 10, 0]    |[0.0021858929687909347, 0.001440646503909404, 0.001174373201657271] |\n",
      "|9    |[0, 5, 13]    |[0.004122966847985044, 0.0027819483440911065, 0.0025009708164410753]|\n",
      "+-----+--------------+--------------------------------------------------------------------+\n",
      "\n",
      "+-------------------------------------------------------------------------------------------------------------------------------------------------------------------------------------------------------------------------------------------------------------------------------------------------------------------------------------------------------------------------------------------------------------------------------------------------------------------------------------------------------------------------------------------------------------------------------------------------------------------------------------------------------------------------------------------------------------------------------------------------------------------------------------------------------------------------------------------------------------------------------------------------------------------------------------------------------------------------------------------------------------------------------------------------------------------------------------------------------------------------------------------------------------------------------------------------------------------------------------------------------------------------------------------------------------------------------------------------------------------------------------------------------+---+-------------------------------------------------------------------------------------------------------------------------------------------------------------------------------------------------------------------------+\n",
      "|features                                                                                                                                                                                                                                                                                                                                                                                                                                                                                                                                                                                                                                                                                                                                                                                                                                                                                                                                                                                                                                                                                                                                                                                                                                                                                                                                                                                               |id |topicDistribution                                                                                                                                                                                                        |\n",
      "+-------------------------------------------------------------------------------------------------------------------------------------------------------------------------------------------------------------------------------------------------------------------------------------------------------------------------------------------------------------------------------------------------------------------------------------------------------------------------------------------------------------------------------------------------------------------------------------------------------------------------------------------------------------------------------------------------------------------------------------------------------------------------------------------------------------------------------------------------------------------------------------------------------------------------------------------------------------------------------------------------------------------------------------------------------------------------------------------------------------------------------------------------------------------------------------------------------------------------------------------------------------------------------------------------------------------------------------------------------------------------------------------------------+---+-------------------------------------------------------------------------------------------------------------------------------------------------------------------------------------------------------------------------+\n",
      "|(10000,[0,2,6,8,14,21,26,38,50,54,71,107,163,230,348,403,628,654,848,2249,2252,3801],[2.0,1.0,2.0,2.0,1.0,1.0,1.0,2.0,2.0,1.0,1.0,1.0,1.0,1.0,1.0,1.0,1.0,1.0,1.0,1.0,1.0,1.0])                                                                                                                                                                                                                                                                                                                                                                                                                                                                                                                                                                                                                                                                                                                                                                                                                                                                                                                                                                                                                                                                                                                                                                                                                        |0  |[0.971343548077211,0.0031466592344167343,0.003130459005011651,0.00330526687749595,0.003126068940489435,0.0032749429679416555,0.003144817934837337,0.003272016583539993,0.0031221946368422482,0.0031340257422140193]      |\n",
      "|(10000,[0,1,3,10,11,15,36,41,45,48,51,52,57,69,77,113,152,162,163,165,174,187,224,234,249,285,295,309,317,348,412,436,489,530,724,738,826,833,852,1067,1127,1213,1267,1328,1394,1404,1421,2257,2729,3211,3503,3656,3774,5213,7932],[5.0,1.0,1.0,1.0,10.0,2.0,1.0,2.0,1.0,1.0,1.0,1.0,1.0,1.0,1.0,1.0,2.0,2.0,1.0,2.0,3.0,1.0,1.0,1.0,1.0,1.0,1.0,1.0,1.0,2.0,5.0,1.0,1.0,1.0,1.0,2.0,1.0,1.0,1.0,1.0,1.0,1.0,3.0,1.0,1.0,2.0,2.0,1.0,1.0,1.0,1.0,1.0,1.0,1.0,1.0])                                                                                                                                                                                                                                                                                                                                                                                                                                                                                                                                                                                                                                                                                                                                                                                                                                                                                                                                     |1  |[0.4638020899266186,0.001022573519328911,0.0010173148775610408,0.00107408354260442,0.0010158863487160878,0.37908863094649625,0.0010219846653806226,0.14992433601671473,0.0010146303127939597,0.0010184698437854277]      |\n",
      "|(10000,[0,1,2,3,7,13,14,15,20,21,22,23,25,34,41,65,73,81,107,116,119,124,138,160,210,218,267,268,280,368,374,385,406,423,426,441,502,573,613,637,752,818,865,881,905,915,997,1006,1272,2209,2480,3162,3637,5456,7334],[1.0,1.0,1.0,1.0,1.0,4.0,1.0,1.0,2.0,1.0,3.0,1.0,1.0,1.0,1.0,1.0,4.0,3.0,2.0,1.0,2.0,1.0,1.0,1.0,1.0,1.0,1.0,1.0,1.0,1.0,3.0,2.0,1.0,1.0,4.0,1.0,1.0,1.0,1.0,1.0,1.0,3.0,1.0,1.0,1.0,2.0,1.0,1.0,1.0,1.0,1.0,3.0,1.0,1.0,1.0])                                                                                                                                                                                                                                                                                                                                                                                                                                                                                                                                                                                                                                                                                                                                                                                                                                                                                                                                                   |2  |[0.9899880711496518,0.0010993626926283154,0.0010937143826373012,0.001154765298156448,0.0010921760221846626,0.0011442224152975655,0.0010987304701146532,0.0011431656262945492,0.0010908306408862387,0.0010949613021485234]|\n",
      "|(10000,[0,1,2,13,16,23,24,25,31,37,60,178,726,742,816,1166,7889,8287],[2.0,2.0,1.0,1.0,1.0,1.0,1.0,1.0,3.0,1.0,1.0,1.0,1.0,1.0,1.0,1.0,1.0,1.0])                                                                                                                                                                                                                                                                                                                                                                                                                                                                                                                                                                                                                                                                                                                                                                                                                                                                                                                                                                                                                                                                                                                                                                                                                                                       |3  |[0.9650924232133953,0.0038330563611547455,0.00381335501354348,0.004026358887300419,0.0038080470391463604,0.003989225386222269,0.003830833902805718,0.003985720438633177,0.0038033070809725187,0.0038176726768259592]     |\n",
      "|(10000,[0,2,4,5,8,10,12,13,16,17,24,27,31,83,101,147,239,268,280,392,402,473,507,606,848,1382,1509,1608,2289],[1.0,1.0,2.0,1.0,1.0,2.0,1.0,1.0,1.0,1.0,1.0,1.0,3.0,1.0,1.0,1.0,1.0,1.0,1.0,1.0,2.0,2.0,1.0,1.0,1.0,1.0,1.0,2.0,1.0])                                                                                                                                                                                                                                                                                                                                                                                                                                                                                                                                                                                                                                                                                                                                                                                                                                                                                                                                                                                                                                                                                                                                                                   |4  |[0.9783291564638653,0.0023795904983692734,0.00236736731981086,0.00249940337381504,0.0023640404695842317,0.0024766360907444527,0.0023782115198649942,0.0024744244956233547,0.002361120660497484,0.002370049107824928]     |\n",
      "|(10000,[0,1,2,19,20,29,30,40,56,71,73,80,171,220,293,359,384,424,432,861,1800],[3.0,1.0,2.0,1.0,1.0,1.0,1.0,2.0,1.0,1.0,1.0,1.0,2.0,1.0,1.0,1.0,2.0,1.0,1.0,1.0,1.0])                                                                                                                                                                                                                                                                                                                                                                                                                                                                                                                                                                                                                                                                                                                                                                                                                                                                                                                                                                                                                                                                                                                                                                                                                                  |5  |[0.9713435295009915,0.003146599906516976,0.003130431496061721,0.0033056194792552497,0.003126023311951553,0.00327487209121483,0.0031447753092833687,0.003272030749884761,0.00312215478574541,0.0031339633690946754]       |\n",
      "|(10000,[0,2,21,28,44,45,50,60,65,110,241,304,347,354,387,419,668],[2.0,1.0,1.0,1.0,1.0,1.0,1.0,1.0,1.0,1.0,1.0,1.0,1.0,2.0,1.0,1.0,2.0])                                                                                                                                                                                                                                                                                                                                                                                                                                                                                                                                                                                                                                                                                                                                                                                                                                                                                                                                                                                                                                                                                                                                                                                                                                                               |6  |[0.41885571423426543,0.004199344299862338,0.004177756832667351,0.3078194019687585,0.00417193870563557,0.24386290013160306,0.00419694581005887,0.004366758630629697,0.004166731409506968,0.004182507977012343]            |\n",
      "|(10000,[0,1,2,3,6,7,9,12,13,15,16,18,19,26,27,39,41,42,43,44,45,46,48,49,50,70,72,79,80,84,90,96,99,100,105,108,111,123,127,130,131,144,149,151,164,166,175,176,180,182,196,197,204,207,216,217,231,243,249,250,258,313,315,317,330,332,368,369,378,394,413,423,448,476,501,504,510,540,562,568,576,590,632,649,659,683,728,762,786,809,936,943,948,974,1005,1008,1010,1057,1167,1361,1822,1920,2192,2436,2478,2508,2520,2669,3283,4003,5143,5744,6361,7109,8632],[3.0,1.0,1.0,5.0,4.0,3.0,1.0,1.0,2.0,2.0,1.0,1.0,1.0,1.0,1.0,3.0,1.0,1.0,1.0,1.0,1.0,1.0,2.0,1.0,1.0,3.0,2.0,1.0,1.0,1.0,1.0,6.0,1.0,1.0,1.0,1.0,1.0,3.0,3.0,2.0,1.0,1.0,1.0,1.0,1.0,1.0,3.0,1.0,1.0,1.0,1.0,1.0,1.0,1.0,1.0,1.0,1.0,1.0,1.0,1.0,1.0,1.0,1.0,1.0,1.0,1.0,1.0,2.0,1.0,1.0,1.0,1.0,1.0,1.0,1.0,1.0,1.0,1.0,1.0,1.0,4.0,3.0,1.0,1.0,1.0,1.0,1.0,1.0,1.0,1.0,3.0,1.0,1.0,1.0,1.0,1.0,3.0,1.0,1.0,1.0,2.0,1.0,1.0,1.0,1.0,1.0,1.0,1.0,1.0,1.0,1.0,1.0,1.0,1.0,1.0])                                                                                                                                                                                                                                                                                                                                                                                                                                                       |7  |[0.5543210478437297,5.563563974977265E-4,5.534980195447019E-4,0.44119657671733287,5.527205531533414E-4,5.790308278967177E-4,5.560366713332593E-4,5.78564821276687E-4,5.520365888280001E-4,5.541315594072073E-4]          |\n",
      "|(10000,[11,18,19,23,61,88,93,94,124,138,151,158,170,179,187,204,218,307,327,349,354,369,553,610,832,943,996,1227,1280,1316,1355,1360,1418,1543,1993,3669,4388,5469,6479,7052],[3.0,1.0,2.0,1.0,1.0,2.0,1.0,1.0,1.0,1.0,1.0,1.0,3.0,1.0,1.0,1.0,1.0,1.0,1.0,1.0,2.0,1.0,1.0,1.0,1.0,1.0,1.0,1.0,1.0,1.0,1.0,1.0,1.0,1.0,1.0,1.0,1.0,1.0,1.0,1.0])                                                                                                                                                                                                                                                                                                                                                                                                                                                                                                                                                                                                                                                                                                                                                                                                                                                                                                                                                                                                                                                       |8  |[0.437122345594216,0.0018334349269222472,0.0018240037846195961,0.0019258502773022248,0.0018214532440775566,0.5480887152570347,0.0018323807370437277,0.0019065340390704304,0.0018191940173111795,0.0018260881224022962]   |\n",
      "|(10000,[0,43,46,90,96,108,127,159,166,170,192,208,216,243,246,295,330,345,398,504,539,644,659,702,830,835,926,990,1074,1087,1098,1250,1325,1433,1671,1754,1995,2139,2393,2551,2831,2996,3147,4248,4378,4625,6464,6581,6662,6716,8232,8378,9215],[1.0,1.0,1.0,1.0,2.0,1.0,3.0,1.0,2.0,1.0,1.0,1.0,1.0,1.0,1.0,1.0,1.0,1.0,1.0,1.0,1.0,1.0,1.0,1.0,1.0,1.0,1.0,1.0,1.0,1.0,1.0,1.0,2.0,1.0,1.0,2.0,1.0,1.0,1.0,2.0,1.0,1.0,2.0,1.0,1.0,1.0,1.0,1.0,1.0,1.0,1.0,1.0,1.0])                                                                                                                                                                                                                                                                                                                                                                                                                                                                                                                                                                                                                                                                                                                                                                                                                                                                                                                                 |9  |[0.0019769796700923816,0.0014188990535547456,0.0014116182220245265,0.9865914047117045,0.0014096299201105974,0.0014767893168235301,0.0014180867577787443,0.0014754895395761177,0.001407885813289626,0.0014132169950453492]|\n",
      "|(10000,[6,8,14,28,35,74,118,148,157,214,267,293,309,329,366,393,419,483,522,599,874,975,1277,2259,2400,2909,3355],[2.0,1.0,1.0,1.0,1.0,1.0,1.0,4.0,1.0,1.0,1.0,1.0,1.0,1.0,1.0,1.0,1.0,1.0,1.0,1.0,1.0,1.0,1.0,2.0,1.0,1.0,2.0])                                                                                                                                                                                                                                                                                                                                                                                                                                                                                                                                                                                                                                                                                                                                                                                                                                                                                                                                                                                                                                                                                                                                                                       |10 |[0.8740410057197029,0.002590094686755961,0.0025767885842861915,0.0027204474026756467,0.0025731450684540053,0.10506699474020688,0.0025885870725467276,0.0026932622257247176,0.002569964261984443,0.0025797102376625553]   |\n",
      "|(10000,[10,15,320,334,513,634,933,8376],[1.0,1.0,1.0,1.0,1.0,1.0,1.0,1.0])                                                                                                                                                                                                                                                                                                                                                                                                                                                                                                                                                                                                                                                                                                                                                                                                                                                                                                                                                                                                                                                                                                                                                                                                                                                                                                                             |11 |[0.9103153738264849,0.009848058660795331,0.00979725870005283,0.01034356229555194,0.009783617192078157,0.010249934506689708,0.009842256615373371,0.010239937308947303,0.00977163651307082,0.009808364380955833]           |\n",
      "|(10000,[4,6,14,15,21,22,25,29,30,33,34,38,59,65,83,85,89,130,136,139,183,214,221,227,234,255,258,264,275,283,296,348,488,552,556,593,606,614,657,705,710,745,778,787,889,890,901,1317,1368,1411,1638,1666,2689,2818,3981,4170,4620,4971,5468,6790,7073],[1.0,2.0,2.0,1.0,1.0,1.0,1.0,1.0,4.0,1.0,1.0,2.0,2.0,1.0,1.0,1.0,1.0,1.0,1.0,2.0,1.0,2.0,1.0,1.0,4.0,1.0,1.0,1.0,2.0,1.0,2.0,2.0,1.0,1.0,1.0,1.0,1.0,1.0,1.0,1.0,1.0,1.0,1.0,1.0,1.0,1.0,1.0,1.0,1.0,1.0,1.0,1.0,1.0,1.0,1.0,5.0,1.0,1.0,1.0,1.0,1.0])                                                                                                                                                                                                                                                                                                                                                                                                                                                                                                                                                                                                                                                                                                                                                                                                                                                                                         |12 |[0.89357665165588,0.0010857918038638286,0.0010801993149502373,0.0011404166593222398,0.0010786853553576138,0.001130053346572723,0.0010851530539012692,0.09766426830891593,0.001077356376295839,0.0010814241249403485]     |\n",
      "|(10000,[0,1,2,3,6,7,8,13,16,18,21,23,25,27,28,30,34,36,37,38,40,45,46,48,50,54,56,65,66,69,70,73,75,76,79,82,84,86,95,98,99,101,105,107,112,124,125,126,127,142,144,148,157,160,166,174,181,183,186,192,204,211,215,216,217,218,227,230,231,232,233,251,254,262,265,285,305,308,311,312,313,324,335,341,343,348,355,364,383,385,390,402,421,434,437,442,450,451,465,476,477,485,504,519,534,540,558,564,565,568,573,613,681,710,716,740,784,796,798,807,825,847,901,928,973,992,1014,1022,1035,1039,1044,1072,1085,1099,1129,1208,1240,1271,1320,1407,1445,1465,1529,1554,1593,1678,1692,1765,1785,1798,1924,1948,2147,2310,2353,2466,2840,3023,3080,3526,3586,3698,3763,5345,5889,6875,6916,9859],[9.0,14.0,3.0,1.0,14.0,3.0,6.0,5.0,2.0,4.0,1.0,1.0,3.0,3.0,1.0,2.0,3.0,1.0,1.0,5.0,1.0,1.0,1.0,1.0,3.0,2.0,2.0,2.0,2.0,1.0,1.0,2.0,1.0,2.0,2.0,2.0,1.0,1.0,3.0,1.0,4.0,3.0,2.0,1.0,2.0,1.0,1.0,2.0,2.0,2.0,2.0,1.0,2.0,1.0,1.0,1.0,1.0,1.0,1.0,1.0,1.0,1.0,1.0,1.0,1.0,1.0,1.0,1.0,1.0,1.0,1.0,1.0,1.0,1.0,2.0,1.0,1.0,1.0,2.0,1.0,4.0,1.0,1.0,1.0,1.0,1.0,1.0,1.0,1.0,1.0,1.0,1.0,1.0,1.0,1.0,1.0,1.0,1.0,1.0,1.0,3.0,1.0,2.0,3.0,2.0,2.0,1.0,1.0,1.0,5.0,1.0,1.0,1.0,1.0,1.0,1.0,4.0,1.0,1.0,2.0,2.0,1.0,2.0,1.0,1.0,1.0,3.0,1.0,1.0,1.0,1.0,1.0,1.0,1.0,1.0,1.0,1.0,1.0,1.0,1.0,1.0,1.0,1.0,1.0,1.0,1.0,1.0,1.0,2.0,1.0,1.0,1.0,1.0,1.0,1.0,1.0,1.0,1.0,1.0,1.0,1.0,1.0,1.0,1.0,1.0,1.0,1.0,1.0])|13 |[0.9971414854339938,3.1387959739962194E-4,3.1226483837195257E-4,3.2970954892845794E-4,3.118279450594209E-4,3.266753213562157E-4,3.1369816737051844E-4,3.2639657294713E-4,3.114417353121715E-4,3.1262083926042125E-4]     |\n",
      "|(10000,[0,2,3,6,8,9,13,15,16,30,33,44,50,127,135,168,205,238,240,304,335,356,365,368,392,430,497,635,803,821,847,896,1148,1492,1551,1577,2036,3032,4569,8719],[2.0,1.0,1.0,1.0,2.0,1.0,1.0,1.0,1.0,3.0,1.0,1.0,1.0,1.0,1.0,1.0,1.0,1.0,1.0,1.0,1.0,1.0,1.0,1.0,1.0,1.0,1.0,1.0,1.0,1.0,1.0,2.0,2.0,1.0,1.0,1.0,1.0,1.0,1.0,1.0])                                                                                                                                                                                                                                                                                                                                                                                                                                                                                                                                                                                                                                                                                                                                                                                                                                                                                                                                                                                                                                                                       |14 |[0.923012481690069,0.0018725070570273432,0.0018628669913043983,0.0619015327714032,0.0018602680402866536,0.0019488262614259942,0.0018714185584672452,0.0019471192401190147,0.0018579634855698081,0.0018650159043276384]   |\n",
      "|(10000,[0,1,6,8,13,15,16,33,38,53,75,77,86,88,89,97,99,100,108,109,111,112,117,132,151,161,180,182,193,200,205,212,214,217,231,233,236,241,250,274,290,293,294,313,314,320,323,327,339,340,355,383,404,443,457,489,504,519,540,570,585,603,710,729,742,757,790,796,827,846,894,1042,1133,1174,1192,1307,1312,1334,1556,1721,1727,1994,2065,2176,2199,2324,2393,2623,2857,2920,2965,3195,3566,3655,3735,3767,3910,4555,4796,6347,8180,9479],[1.0,1.0,8.0,2.0,2.0,1.0,1.0,1.0,1.0,1.0,3.0,3.0,5.0,1.0,1.0,5.0,1.0,1.0,1.0,3.0,1.0,1.0,2.0,2.0,1.0,1.0,7.0,3.0,1.0,1.0,1.0,4.0,1.0,2.0,1.0,1.0,2.0,1.0,1.0,1.0,1.0,1.0,2.0,2.0,3.0,2.0,1.0,1.0,1.0,1.0,1.0,1.0,1.0,1.0,1.0,2.0,1.0,1.0,1.0,2.0,1.0,4.0,2.0,1.0,7.0,4.0,1.0,1.0,1.0,1.0,1.0,1.0,1.0,1.0,1.0,5.0,1.0,1.0,1.0,4.0,1.0,1.0,1.0,1.0,1.0,1.0,1.0,1.0,5.0,1.0,1.0,2.0,1.0,1.0,1.0,1.0,1.0,1.0,1.0,1.0,2.0,1.0])                                                                                                                                                                                                                                                                                                                                                                                                                                                                                                                                  |15 |[0.9953992204391364,5.051806948186533E-4,5.025931923876085E-4,5.307042661693969E-4,5.018864357956686E-4,5.257694179837462E-4,5.048910413165746E-4,5.25329210622523E-4,5.012598096841013E-4,5.031654920851468E-4]         |\n",
      "|(10000,[0,2,3,6,18,20,23,32,38,41,42,46,49,54,60,61,67,72,83,89,92,106,109,117,133,158,167,168,178,189,230,231,272,274,284,313,342,379,399,404,416,426,435,457,477,550,570,632,648,651,717,722,905,917,954,1004,1316,1326,1591,2497,2519,2950,3564,4303],[2.0,1.0,4.0,1.0,7.0,1.0,1.0,1.0,2.0,2.0,1.0,1.0,4.0,1.0,2.0,1.0,1.0,2.0,1.0,1.0,1.0,1.0,1.0,1.0,1.0,1.0,1.0,2.0,1.0,1.0,1.0,1.0,1.0,1.0,1.0,1.0,1.0,1.0,1.0,1.0,1.0,1.0,1.0,1.0,1.0,1.0,1.0,1.0,1.0,1.0,1.0,1.0,1.0,1.0,1.0,1.0,1.0,1.0,1.0,1.0,1.0,1.0,1.0,1.0])                                                                                                                                                                                                                                                                                                                                                                                                                                                                                                                                                                                                                                                                                                                                                                                                                                                                            |16 |[0.9903504812812106,0.0010595562685548664,0.001054109332957275,0.0011130622391102125,0.0010526290556500113,0.0011027499936375647,0.001058942985179587,0.0011018380088567148,0.0010513272505144958,0.0010553035843284832] |\n",
      "|(10000,[0,2,3,8,13,23,51,52,53,56,64,65,80,81,85,110,113,136,147,148,185,195,208,210,266,269,321,341,363,371,379,386,398,421,482,527,620,752,960,995,1072,1468,1522,1624,1775,1952,2184,3106,9889],[4.0,1.0,1.0,3.0,1.0,2.0,1.0,1.0,1.0,2.0,1.0,1.0,1.0,2.0,1.0,2.0,1.0,3.0,1.0,1.0,1.0,1.0,1.0,1.0,3.0,1.0,3.0,1.0,1.0,1.0,1.0,1.0,1.0,1.0,1.0,1.0,1.0,1.0,1.0,1.0,1.0,1.0,1.0,1.0,1.0,1.0,1.0,1.0,1.0])                                                                                                                                                                                                                                                                                                                                                                                                                                                                                                                                                                                                                                                                                                                                                                                                                                                                                                                                                                                              |17 |[0.7542189029712499,0.0013533383593315742,0.0013463685755410154,0.23487782366102172,0.0013444763919812056,0.0014085752536506868,0.0013525427765732495,0.001407256455994624,0.0013428160289945263,0.0013478995256612286]  |\n",
      "|(10000,[0,6,7,8,12,18,26,38,61,72,78,79,88,89,105,114,146,151,175,193,214,251,340,540,543,926,949,2105,2157],[1.0,4.0,1.0,1.0,1.0,1.0,2.0,1.0,2.0,1.0,1.0,1.0,1.0,1.0,2.0,2.0,1.0,2.0,1.0,1.0,1.0,2.0,1.0,1.0,1.0,1.0,1.0,1.0,1.0])                                                                                                                                                                                                                                                                                                                                                                                                                                                                                                                                                                                                                                                                                                                                                                                                                                                                                                                                                                                                                                                                                                                                                                    |18 |[0.9794424272973579,0.002257333716787809,0.00224572408053039,0.0023712110736439297,0.002242582993759927,0.0023493127091412467,0.002256021018935177,0.002347322731993772,0.0022397887391217984,0.0022482756387280124]     |\n",
      "|(10000,[2,82,223,735,763,1036],[1.0,1.0,1.0,1.0,1.0,1.0])                                                                                                                                                                                                                                                                                                                                                                                                                                                                                                                                                                                                                                                                                                                                                                                                                                                                                                                                                                                                                                                                                                                                                                                                                                                                                                                                              |19 |[0.017674802739108535,0.8794301636794007,0.012626917667175462,0.013332636837210242,0.01260917525924074,0.01320921637996628,0.012684726226853996,0.013197590571929863,0.012593570993698953,0.012641199645415345]          |\n",
      "+-------------------------------------------------------------------------------------------------------------------------------------------------------------------------------------------------------------------------------------------------------------------------------------------------------------------------------------------------------------------------------------------------------------------------------------------------------------------------------------------------------------------------------------------------------------------------------------------------------------------------------------------------------------------------------------------------------------------------------------------------------------------------------------------------------------------------------------------------------------------------------------------------------------------------------------------------------------------------------------------------------------------------------------------------------------------------------------------------------------------------------------------------------------------------------------------------------------------------------------------------------------------------------------------------------------------------------------------------------------------------------------------------------+---+-------------------------------------------------------------------------------------------------------------------------------------------------------------------------------------------------------------------------+\n",
      "only showing top 20 rows\n",
      "\n"
     ]
    }
   ],
   "source": [
    "lda = LDA(k=10, maxIter=10)\n",
    "model = lda.fit(countVectors)\n",
    "\n",
    "ll = model.logLikelihood(countVectors)\n",
    "lp = model.logPerplexity(countVectors)\n",
    "print(\"The lower bound on the log likelihood of the entire corpus: \" + str(ll))\n",
    "print(\"The upper bound on perplexity: \" + str(lp))\n",
    "\n",
    "# Describe topics.\n",
    "topics = model.describeTopics(3)\n",
    "print(\"The topics described by their top-weighted terms:\")\n",
    "topics.show(truncate=False)\n",
    "\n",
    "# Shows the result\n",
    "transformed = model.transform(countVectors)\n",
    "transformed.show(truncate=False)"
   ]
  },
  {
   "cell_type": "markdown",
   "metadata": {},
   "source": [
    "### Display words for top 10 topics "
   ]
  },
  {
   "cell_type": "code",
   "execution_count": 20,
   "metadata": {},
   "outputs": [
    {
     "name": "stdout",
     "output_type": "stream",
     "text": [
      "topic:  0\n",
      "----------\n",
      "credit\n",
      "account\n",
      "payment\n",
      "report\n",
      "information\n",
      "loan\n",
      "received\n",
      "debt\n",
      "company\n",
      "told\n",
      "----------\n",
      "topic:  1\n",
      "----------\n",
      "report\n",
      "credit\n",
      "without\n",
      "appear\n",
      "many\n",
      "mistakes\n",
      "understanding\n",
      "account\n",
      "loan\n",
      "debt\n",
      "----------\n",
      "topic:  2\n",
      "----------\n",
      "credit\n",
      "account\n",
      "report\n",
      "loan\n",
      "verifying\n",
      "unverified\n",
      "time\n",
      "payments\n",
      "2018\n",
      "reporting\n",
      "----------\n",
      "topic:  3\n",
      "----------\n",
      "credit\n",
      "report\n",
      "information\n",
      "inquiry\n",
      "identity\n",
      "inquiries\n",
      "please\n",
      "accounts\n",
      "remove\n",
      "theft\n",
      "----------\n",
      "topic:  4\n",
      "----------\n",
      "account\n",
      "credit\n",
      "report\n",
      "diversified\n",
      "information\n",
      "insurance\n",
      "company\n",
      "consultants\n",
      "rental\n",
      "called\n",
      "----------\n",
      "topic:  5\n",
      "----------\n",
      "card\n",
      "chase\n",
      "said\n",
      "bank\n",
      "account\n",
      "called\n",
      "money\n",
      "told\n",
      "back\n",
      "credit\n",
      "----------\n",
      "topic:  6\n",
      "----------\n",
      "account\n",
      "bonus\n",
      "credit\n",
      "money\n",
      "told\n",
      "said\n",
      "received\n",
      "days\n",
      "pay\n",
      "report\n",
      "----------\n",
      "topic:  7\n",
      "----------\n",
      "consumer\n",
      "wells\n",
      "fargo\n",
      "loan\n",
      "information\n",
      "bank\n",
      "account\n",
      "paypal\n",
      "us\n",
      "mortgage\n",
      "----------\n",
      "topic:  8\n",
      "----------\n",
      "account\n",
      "bank\n",
      "credit\n",
      "2017\n",
      "company\n",
      "insurance\n",
      "late\n",
      "escrow\n",
      "mortgage\n",
      "received\n",
      "----------\n",
      "topic:  9\n",
      "----------\n",
      "credit\n",
      "loan\n",
      "never\n",
      "debt\n",
      "company\n",
      "usaa\n",
      "payment\n",
      "bridgecrest\n",
      "told\n",
      "fargo\n",
      "----------\n"
     ]
    }
   ],
   "source": [
    "topics = model.describeTopics()   \n",
    "topics_rdd = topics.rdd\n",
    "\n",
    "topics_words = topics_rdd\\\n",
    "       .map(lambda row: row['termIndices'])\\\n",
    "       .map(lambda idx_list: [vocab[idx] for idx in idx_list])\\\n",
    "       .collect()\n",
    "\n",
    "for idx, topic in enumerate(topics_words):\n",
    "    print (\"topic: \", idx)\n",
    "    print (\"----------\")\n",
    "    for word in topic:\n",
    "       print (word)\n",
    "    print (\"----------\")"
   ]
  }
 ],
 "metadata": {
  "kernelspec": {
   "display_name": "Python 3",
   "language": "python",
   "name": "python3"
  },
  "language_info": {
   "codemirror_mode": {
    "name": "ipython",
    "version": 3
   },
   "file_extension": ".py",
   "mimetype": "text/x-python",
   "name": "python",
   "nbconvert_exporter": "python",
   "pygments_lexer": "ipython3",
   "version": "3.7.2"
  }
 },
 "nbformat": 4,
 "nbformat_minor": 2
}
